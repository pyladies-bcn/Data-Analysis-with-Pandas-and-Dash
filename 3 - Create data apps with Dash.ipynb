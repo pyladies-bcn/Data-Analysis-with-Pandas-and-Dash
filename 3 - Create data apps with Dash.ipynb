{
 "cells": [
  {
   "cell_type": "markdown",
   "metadata": {},
   "source": [
    "## CREATE DATA APPS WITH DASH"
   ]
  },
  {
   "cell_type": "markdown",
   "metadata": {},
   "source": [
    "**Dash:** Framework for rapidly building data apps in Python, R, Julia (and others but only experimental).   \n",
    "Dash makes it easy to build complex apps that could contain many **interactive** elements."
   ]
  },
  {
   "cell_type": "markdown",
   "metadata": {},
   "source": [
    "https://dash.gallery/Portal/"
   ]
  },
  {
   "cell_type": "markdown",
   "metadata": {},
   "source": [
    "To use it in your terminal, install:```pip install dash```  \n",
    "To use it in Jupyter notebook or JupyterLabs, install: ```pip install jupyter-dash```"
   ]
  },
  {
   "cell_type": "markdown",
   "metadata": {},
   "source": [
    "Dash apps are composed of two parts:  \n",
    "* **LAYOUT:** describes what the application looks like.\n",
    "* **INTERTIVITY:** functions related to user interaction."
   ]
  },
  {
   "cell_type": "code",
   "execution_count": 44,
   "metadata": {},
   "outputs": [
    {
     "data": {
      "text/html": [
       "\n",
       "        <iframe\n",
       "            width=\"100%\"\n",
       "            height=\"650\"\n",
       "            src=\"http://127.0.0.1:8050/\"\n",
       "            frameborder=\"0\"\n",
       "            allowfullscreen\n",
       "            \n",
       "        ></iframe>\n",
       "        "
      ],
      "text/plain": [
       "<IPython.lib.display.IFrame at 0x7f7f63129460>"
      ]
     },
     "metadata": {},
     "output_type": "display_data"
    }
   ],
   "source": [
    "import pandas as pd\n",
    "import plotly.express as px\n",
    "from jupyter_dash import JupyterDash\n",
    "from dash import html, dcc\n",
    "\n",
    "# Load Data\n",
    "df = pd.read_csv(\"out.csv\")\n",
    "\n",
    "#Figure\n",
    "fig = px.histogram(df, x=\"Type\")\n",
    "\n",
    "#App\n",
    "app = JupyterDash(__name__)\n",
    "\n",
    "#Add Layout\n",
    "app.layout = html.Div([\n",
    "    html.H1(\"My first Dash app\",style={'textAlign': 'center','color': 'blue', 'fontSize': 30}),\n",
    "    dcc.Graph(figure=fig)\n",
    "])\n",
    "\n",
    "# Run app and display result inline in the notebook\n",
    "app.run_server(mode='inline')\n",
    "\n",
    "#app.run_server(mode='external',port=8050)"
   ]
  },
  {
   "cell_type": "code",
   "execution_count": 45,
   "metadata": {},
   "outputs": [
    {
     "data": {
      "text/html": [
       "\n",
       "        <iframe\n",
       "            width=\"100%\"\n",
       "            height=\"650\"\n",
       "            src=\"http://127.0.0.1:8050/\"\n",
       "            frameborder=\"0\"\n",
       "            allowfullscreen\n",
       "            \n",
       "        ></iframe>\n",
       "        "
      ],
      "text/plain": [
       "<IPython.lib.display.IFrame at 0x7f7f6311d160>"
      ]
     },
     "metadata": {},
     "output_type": "display_data"
    }
   ],
   "source": [
    "import pandas as pd\n",
    "import plotly.express as px\n",
    "from jupyter_dash import JupyterDash\n",
    "from dash import html, dcc, Input, Output\n",
    "from dash.exceptions import PreventUpdate\n",
    "\n",
    "# Load Data\n",
    "df = pd.read_csv(\"out.csv\")\n",
    "\n",
    "app = JupyterDash(__name__)\n",
    "app.layout = html.Div([\n",
    "    html.H1(\"My first Dash app\",style={'textAlign': 'center','color': 'blue', 'fontSize': 30}),\n",
    "    html.Div([html.Label([\"Select variable:\",\n",
    "                          dcc.Dropdown(id='selection', options=[{'label': i, 'value': i} for i in df.columns],\n",
    "                                 multi=False)]),\n",
    "                          dcc.Graph(id='bar_plot')])])\n",
    "\n",
    "@app.callback(Output('bar_plot', 'figure'), [Input('selection', 'value')])\n",
    "def make_figure(selection):\n",
    "    if selection is None:\n",
    "        raise PreventUpdate\n",
    "        \n",
    "    data = df[selection]\n",
    "    return px.histogram(data)\n",
    "\n",
    "app.run_server(mode='inline')"
   ]
  },
  {
   "cell_type": "code",
   "execution_count": null,
   "metadata": {},
   "outputs": [],
   "source": []
  }
 ],
 "metadata": {
  "kernelspec": {
   "display_name": "Python 3 (ipykernel)",
   "language": "python",
   "name": "python3"
  },
  "language_info": {
   "codemirror_mode": {
    "name": "ipython",
    "version": 3
   },
   "file_extension": ".py",
   "mimetype": "text/x-python",
   "name": "python",
   "nbconvert_exporter": "python",
   "pygments_lexer": "ipython3",
   "version": "3.8.10"
  }
 },
 "nbformat": 4,
 "nbformat_minor": 2
}
